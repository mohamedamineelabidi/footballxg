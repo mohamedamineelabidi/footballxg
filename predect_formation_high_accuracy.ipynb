{
  "nbformat": 4,
  "nbformat_minor": 0,
  "metadata": {
    "colab": {
      "provenance": [],
      "include_colab_link": true
    },
    "kernelspec": {
      "name": "python3",
      "display_name": "Python 3"
    },
    "language_info": {
      "name": "python"
    }
  },
  "cells": [
    {
      "cell_type": "markdown",
      "metadata": {
        "id": "view-in-github",
        "colab_type": "text"
      },
      "source": [
        "<a href=\"https://colab.research.google.com/github/mohamedamineelabidi/footballxg/blob/master/predect_formation_high_accuracy.ipynb\" target=\"_parent\"><img src=\"https://colab.research.google.com/assets/colab-badge.svg\" alt=\"Open In Colab\"/></a>"
      ]
    },
    {
      "cell_type": "code",
      "execution_count": null,
      "metadata": {
        "id": "n5iusu-hnBxT"
      },
      "outputs": [],
      "source": [
        "import pandas as pd\n",
        "from sklearn.preprocessing import LabelEncoder\n",
        "from sklearn.model_selection import train_test_split\n",
        "from sklearn.ensemble import RandomForestClassifier\n",
        "from sklearn.metrics import classification_report, accuracy_score\n",
        "from imblearn.over_sampling import RandomOverSampler\n",
        "import joblib\n"
      ]
    },
    {
      "cell_type": "code",
      "source": [
        "# Chargement des données\n",
        "data = pd.read_excel('/content/Cleaned_Combined_Clubs_finals.xlsx')\n",
        "\n",
        "# Affichage des colonnes du dataset\n",
        "print(data.columns)"
      ],
      "metadata": {
        "colab": {
          "base_uri": "https://localhost:8080/"
        },
        "id": "dqZIZQrBnLoL",
        "outputId": "831ebf55-2001-4f3d-d42e-ea8e6450be5b"
      },
      "execution_count": null,
      "outputs": [
        {
          "output_type": "stream",
          "name": "stdout",
          "text": [
            "Index(['Formation', 'xG', 'xGA', 'Poss', 'xA', 'KP', 'PPA', 'PrgP'], dtype='object')\n"
          ]
        }
      ]
    },
    {
      "cell_type": "markdown",
      "source": [],
      "metadata": {
        "id": "XHc9UaRznRbp"
      }
    },
    {
      "cell_type": "code",
      "source": [
        "# Encodage de la variable cible (formations)\n",
        "y = data['Formation']\n",
        "\n",
        "label_encoder = LabelEncoder()\n",
        "y_encoded = label_encoder.fit_transform(y)\n",
        "X = data[['xG', 'xGA', 'Poss', 'xA', 'KP', 'PPA', 'PrgP']]\n",
        "\n",
        "# Sur-échantillonnage avec RandomOverSampler pour gérer le déséquilibre des classes\n",
        "oversampler = RandomOverSampler(random_state=42)\n",
        "X_resampled, y_resampled = oversampler.fit_resample(X, y_encoded)\n",
        "\n",
        "# Séparation du dataset en ensembles d'entraînement et de test\n",
        "X_train, X_test, y_train, y_test = train_test_split(X_resampled, y_resampled, test_size=0.2, random_state=42)\n"
      ],
      "metadata": {
        "id": "MjOZQ1eJnXMl"
      },
      "execution_count": null,
      "outputs": []
    },
    {
      "cell_type": "code",
      "source": [
        "# Initialisation du modèle Random Forest\n",
        "rf_model = RandomForestClassifier(random_state=42)\n",
        "\n",
        "# Entraînement du modèle\n",
        "rf_model.fit(X_train, y_train)\n",
        "\n",
        "# Prédictions sur l'ensemble de test\n",
        "y_pred = rf_model.predict(X_test)\n",
        "\n",
        "# Rapport de classification et précision\n",
        "print(classification_report(y_test, y_pred))\n",
        "print(f\"Accuracy: {accuracy_score(y_test, y_pred)}\")"
      ],
      "metadata": {
        "colab": {
          "base_uri": "https://localhost:8080/"
        },
        "id": "bgk8d0FZoBYf",
        "outputId": "8f719e41-540a-4a32-d1fc-b3064f937f7b"
      },
      "execution_count": null,
      "outputs": [
        {
          "output_type": "stream",
          "name": "stdout",
          "text": [
            "              precision    recall  f1-score   support\n",
            "\n",
            "           0       0.97      1.00      0.99       230\n",
            "           1       0.97      1.00      0.99       222\n",
            "           2       1.00      1.00      1.00       227\n",
            "           3       0.93      0.95      0.94       240\n",
            "           4       0.70      0.65      0.68       222\n",
            "           5       1.00      1.00      1.00       242\n",
            "           6       0.99      1.00      1.00       228\n",
            "           7       0.87      0.86      0.86       233\n",
            "           8       0.99      1.00      0.99       253\n",
            "           9       0.91      1.00      0.95       212\n",
            "          10       0.95      0.99      0.97       224\n",
            "          11       0.98      0.97      0.98       232\n",
            "          12       0.55      0.35      0.42       231\n",
            "          13       1.00      1.00      1.00       213\n",
            "          14       0.91      0.97      0.94       240\n",
            "          15       1.00      1.00      1.00       236\n",
            "          16       0.73      0.64      0.68       236\n",
            "          17       0.98      0.99      0.98       230\n",
            "          18       0.81      0.92      0.86       229\n",
            "          19       0.97      1.00      0.99       225\n",
            "          20       0.95      1.00      0.97       210\n",
            "          21       0.94      0.97      0.96       241\n",
            "          22       0.99      1.00      0.99       225\n",
            "\n",
            "    accuracy                           0.92      5281\n",
            "   macro avg       0.92      0.92      0.92      5281\n",
            "weighted avg       0.92      0.92      0.92      5281\n",
            "\n",
            "Accuracy: 0.9244461276273434\n"
          ]
        }
      ]
    },
    {
      "cell_type": "code",
      "source": [
        "# Sauvegarde du modèle\n",
        "joblib.dump(rf_model, 'best_rf_model.pkl')\n",
        "\n",
        "# Chargement du modèle\n",
        "best_rf_model = joblib.load('best_rf_model.pkl')\n"
      ],
      "metadata": {
        "id": "pA_tebezoVaZ"
      },
      "execution_count": null,
      "outputs": []
    },
    {
      "cell_type": "code",
      "source": [
        "# Exemple de nouvelles données pour la prédiction\n",
        "#les donnees de belguim\n",
        "new_data = pd.DataFrame({\n",
        "    'xG': [1.5], 'xGA': [2.6], 'Poss': [67], 'xA': [0.4], 'KP': [5], 'PPA': [9], 'PrgP': [53]\n",
        "})\n",
        "\n",
        "# Prédictions\n",
        "predicted_formation = best_rf_model.predict(new_data)\n",
        "\n",
        "# Conversion de la prédiction numérique en label de formation d'origine\n",
        "predicted_formation_label = label_encoder.inverse_transform(predicted_formation)\n",
        "\n",
        "print(f\"Predicted formation: {predicted_formation_label[0]}\")"
      ],
      "metadata": {
        "colab": {
          "base_uri": "https://localhost:8080/"
        },
        "id": "j-htPwiWob3s",
        "outputId": "f7c46880-0259-4672-e557-27694c5eee87"
      },
      "execution_count": null,
      "outputs": [
        {
          "output_type": "stream",
          "name": "stdout",
          "text": [
            "Predicted formation: 4-3-3\n"
          ]
        }
      ]
    },
    {
      "cell_type": "code",
      "source": [
        "from google.colab import drive\n",
        "drive.mount('/content/drive')"
      ],
      "metadata": {
        "colab": {
          "base_uri": "https://localhost:8080/"
        },
        "id": "XTRhssyGFdAn",
        "outputId": "134586cb-7dce-40d7-d945-3bfc5ba9cdf2"
      },
      "execution_count": null,
      "outputs": [
        {
          "output_type": "stream",
          "name": "stdout",
          "text": [
            "Mounted at /content/drive\n"
          ]
        }
      ]
    }
  ]
}